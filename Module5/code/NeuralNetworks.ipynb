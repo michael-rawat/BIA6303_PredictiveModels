{
 "cells": [
  {
   "cell_type": "markdown",
   "metadata": {},
   "source": [
    "# Neural Networks (ANN)\n",
    "\n",
    "## Michael Rawat"
   ]
  },
  {
   "cell_type": "markdown",
   "metadata": {},
   "source": [
    "The codes in this notebook closely follows the original notebook prepared by previous instructors of BIA 6303-Predictive Models: Myles Gartland, Harlan Hays and Xuan Pham. "
   ]
  },
  {
   "cell_type": "code",
   "execution_count": 1,
   "metadata": {},
   "outputs": [],
   "source": [
    "#load packages\n",
    "import numpy as np\n",
    "import matplotlib.pyplot as plt\n",
    "import pandas as pd\n",
    "import os as os\n",
    "%matplotlib inline \n",
    "import sys\n",
    "\n",
    "#basic methods from scikit learn package\n",
    "from sklearn.model_selection  import train_test_split, cross_val_score, KFold\n",
    "from sklearn.model_selection import GridSearchCV\n",
    "from sklearn.metrics import accuracy_score, precision_score, recall_score, f1_score\n",
    "from sklearn.metrics import confusion_matrix, classification_report"
   ]
  },
  {
   "cell_type": "code",
   "execution_count": 2,
   "metadata": {},
   "outputs": [
    {
     "name": "stdout",
     "output_type": "stream",
     "text": [
      "The Python version is 3.9.7\n"
     ]
    }
   ],
   "source": [
    "print(\"The Python version is %s.%s.%s\" % sys.version_info[:3])"
   ]
  },
  {
   "cell_type": "code",
   "execution_count": 3,
   "metadata": {},
   "outputs": [
    {
     "data": {
      "text/plain": [
       "'C:\\\\Users\\\\micha\\\\OneDrive\\\\Desktop\\\\Rockhurst University\\\\Classes\\\\BIA 6303 - Predictive Models\\\\Module5\\\\code'"
      ]
     },
     "execution_count": 3,
     "metadata": {},
     "output_type": "execute_result"
    }
   ],
   "source": [
    "%pwd"
   ]
  },
  {
   "cell_type": "code",
   "execution_count": 4,
   "metadata": {},
   "outputs": [
    {
     "name": "stdout",
     "output_type": "stream",
     "text": [
      "C:\\Users\\micha\\OneDrive\\Desktop\\Rockhurst University\\Classes\\BIA 6303 - Predictive Models\\Module5\\data\n"
     ]
    }
   ],
   "source": [
    "cd C:\\\\Users\\\\micha\\\\OneDrive\\\\Desktop\\\\Rockhurst University\\\\Classes\\\\BIA 6303 - Predictive Models\\\\Module5\\\\data"
   ]
  },
  {
   "cell_type": "code",
   "execution_count": 5,
   "metadata": {},
   "outputs": [
    {
     "data": {
      "text/plain": [
       "(5000, 20)"
      ]
     },
     "execution_count": 5,
     "metadata": {},
     "output_type": "execute_result"
    }
   ],
   "source": [
    "#import data\n",
    "df = pd.read_csv(\"Churn_Calls.csv\", sep=\",\")\n",
    "df.shape"
   ]
  },
  {
   "cell_type": "code",
   "execution_count": 6,
   "metadata": {},
   "outputs": [
    {
     "data": {
      "text/html": [
       "<div>\n",
       "<style scoped>\n",
       "    .dataframe tbody tr th:only-of-type {\n",
       "        vertical-align: middle;\n",
       "    }\n",
       "\n",
       "    .dataframe tbody tr th {\n",
       "        vertical-align: top;\n",
       "    }\n",
       "\n",
       "    .dataframe thead th {\n",
       "        text-align: right;\n",
       "    }\n",
       "</style>\n",
       "<table border=\"1\" class=\"dataframe\">\n",
       "  <thead>\n",
       "    <tr style=\"text-align: right;\">\n",
       "      <th></th>\n",
       "      <th>state</th>\n",
       "      <th>account_length</th>\n",
       "      <th>area_code</th>\n",
       "      <th>international_plan</th>\n",
       "      <th>voice_mail_plan</th>\n",
       "      <th>number_vmail_messages</th>\n",
       "      <th>total_day_minutes</th>\n",
       "      <th>total_day_calls</th>\n",
       "      <th>total_day_charge</th>\n",
       "      <th>total_eve_minutes</th>\n",
       "      <th>total_eve_calls</th>\n",
       "      <th>total_eve_charge</th>\n",
       "      <th>total_night_minutes</th>\n",
       "      <th>total_night_calls</th>\n",
       "      <th>total_night_charge</th>\n",
       "      <th>total_intl_minutes</th>\n",
       "      <th>total_intl_calls</th>\n",
       "      <th>total_intl_charge</th>\n",
       "      <th>number_customer_service_calls</th>\n",
       "      <th>churn</th>\n",
       "    </tr>\n",
       "  </thead>\n",
       "  <tbody>\n",
       "    <tr>\n",
       "      <th>0</th>\n",
       "      <td>AK</td>\n",
       "      <td>1</td>\n",
       "      <td>area_code_408</td>\n",
       "      <td>no</td>\n",
       "      <td>no</td>\n",
       "      <td>0</td>\n",
       "      <td>175.2</td>\n",
       "      <td>74</td>\n",
       "      <td>29.78</td>\n",
       "      <td>151.7</td>\n",
       "      <td>79</td>\n",
       "      <td>12.89</td>\n",
       "      <td>230.5</td>\n",
       "      <td>109</td>\n",
       "      <td>10.37</td>\n",
       "      <td>5.3</td>\n",
       "      <td>3</td>\n",
       "      <td>1.43</td>\n",
       "      <td>1</td>\n",
       "      <td>no</td>\n",
       "    </tr>\n",
       "    <tr>\n",
       "      <th>1</th>\n",
       "      <td>AK</td>\n",
       "      <td>36</td>\n",
       "      <td>area_code_408</td>\n",
       "      <td>no</td>\n",
       "      <td>yes</td>\n",
       "      <td>30</td>\n",
       "      <td>146.3</td>\n",
       "      <td>128</td>\n",
       "      <td>24.87</td>\n",
       "      <td>162.5</td>\n",
       "      <td>80</td>\n",
       "      <td>13.81</td>\n",
       "      <td>129.3</td>\n",
       "      <td>109</td>\n",
       "      <td>5.82</td>\n",
       "      <td>14.5</td>\n",
       "      <td>6</td>\n",
       "      <td>3.92</td>\n",
       "      <td>0</td>\n",
       "      <td>no</td>\n",
       "    </tr>\n",
       "    <tr>\n",
       "      <th>2</th>\n",
       "      <td>AK</td>\n",
       "      <td>36</td>\n",
       "      <td>area_code_415</td>\n",
       "      <td>yes</td>\n",
       "      <td>yes</td>\n",
       "      <td>19</td>\n",
       "      <td>171.9</td>\n",
       "      <td>96</td>\n",
       "      <td>29.22</td>\n",
       "      <td>198.4</td>\n",
       "      <td>111</td>\n",
       "      <td>16.86</td>\n",
       "      <td>321.7</td>\n",
       "      <td>76</td>\n",
       "      <td>14.48</td>\n",
       "      <td>10.5</td>\n",
       "      <td>1</td>\n",
       "      <td>2.84</td>\n",
       "      <td>1</td>\n",
       "      <td>yes</td>\n",
       "    </tr>\n",
       "    <tr>\n",
       "      <th>3</th>\n",
       "      <td>AK</td>\n",
       "      <td>41</td>\n",
       "      <td>area_code_415</td>\n",
       "      <td>no</td>\n",
       "      <td>no</td>\n",
       "      <td>0</td>\n",
       "      <td>159.3</td>\n",
       "      <td>66</td>\n",
       "      <td>27.08</td>\n",
       "      <td>125.9</td>\n",
       "      <td>75</td>\n",
       "      <td>10.70</td>\n",
       "      <td>261.9</td>\n",
       "      <td>76</td>\n",
       "      <td>11.79</td>\n",
       "      <td>11.1</td>\n",
       "      <td>5</td>\n",
       "      <td>3.00</td>\n",
       "      <td>1</td>\n",
       "      <td>no</td>\n",
       "    </tr>\n",
       "    <tr>\n",
       "      <th>4</th>\n",
       "      <td>AK</td>\n",
       "      <td>42</td>\n",
       "      <td>area_code_415</td>\n",
       "      <td>no</td>\n",
       "      <td>no</td>\n",
       "      <td>0</td>\n",
       "      <td>171.0</td>\n",
       "      <td>129</td>\n",
       "      <td>29.07</td>\n",
       "      <td>183.9</td>\n",
       "      <td>96</td>\n",
       "      <td>15.63</td>\n",
       "      <td>130.2</td>\n",
       "      <td>90</td>\n",
       "      <td>5.86</td>\n",
       "      <td>4.6</td>\n",
       "      <td>6</td>\n",
       "      <td>1.24</td>\n",
       "      <td>0</td>\n",
       "      <td>no</td>\n",
       "    </tr>\n",
       "  </tbody>\n",
       "</table>\n",
       "</div>"
      ],
      "text/plain": [
       "  state  account_length      area_code international_plan voice_mail_plan  \\\n",
       "0    AK               1  area_code_408                 no              no   \n",
       "1    AK              36  area_code_408                 no             yes   \n",
       "2    AK              36  area_code_415                yes             yes   \n",
       "3    AK              41  area_code_415                 no              no   \n",
       "4    AK              42  area_code_415                 no              no   \n",
       "\n",
       "   number_vmail_messages  total_day_minutes  total_day_calls  \\\n",
       "0                      0              175.2               74   \n",
       "1                     30              146.3              128   \n",
       "2                     19              171.9               96   \n",
       "3                      0              159.3               66   \n",
       "4                      0              171.0              129   \n",
       "\n",
       "   total_day_charge  total_eve_minutes  total_eve_calls  total_eve_charge  \\\n",
       "0             29.78              151.7               79             12.89   \n",
       "1             24.87              162.5               80             13.81   \n",
       "2             29.22              198.4              111             16.86   \n",
       "3             27.08              125.9               75             10.70   \n",
       "4             29.07              183.9               96             15.63   \n",
       "\n",
       "   total_night_minutes  total_night_calls  total_night_charge  \\\n",
       "0                230.5                109               10.37   \n",
       "1                129.3                109                5.82   \n",
       "2                321.7                 76               14.48   \n",
       "3                261.9                 76               11.79   \n",
       "4                130.2                 90                5.86   \n",
       "\n",
       "   total_intl_minutes  total_intl_calls  total_intl_charge  \\\n",
       "0                 5.3                 3               1.43   \n",
       "1                14.5                 6               3.92   \n",
       "2                10.5                 1               2.84   \n",
       "3                11.1                 5               3.00   \n",
       "4                 4.6                 6               1.24   \n",
       "\n",
       "   number_customer_service_calls churn  \n",
       "0                              1    no  \n",
       "1                              0    no  \n",
       "2                              1   yes  \n",
       "3                              1    no  \n",
       "4                              0    no  "
      ]
     },
     "execution_count": 6,
     "metadata": {},
     "output_type": "execute_result"
    }
   ],
   "source": [
    "df.head()"
   ]
  },
  {
   "cell_type": "markdown",
   "metadata": {},
   "source": [
    "Our target variable is churn (last column). "
   ]
  },
  {
   "cell_type": "code",
   "execution_count": 7,
   "metadata": {},
   "outputs": [
    {
     "data": {
      "text/plain": [
       "state                             object\n",
       "account_length                     int64\n",
       "area_code                         object\n",
       "international_plan                object\n",
       "voice_mail_plan                   object\n",
       "number_vmail_messages              int64\n",
       "total_day_minutes                float64\n",
       "total_day_calls                    int64\n",
       "total_day_charge                 float64\n",
       "total_eve_minutes                float64\n",
       "total_eve_calls                    int64\n",
       "total_eve_charge                 float64\n",
       "total_night_minutes              float64\n",
       "total_night_calls                  int64\n",
       "total_night_charge               float64\n",
       "total_intl_minutes               float64\n",
       "total_intl_calls                   int64\n",
       "total_intl_charge                float64\n",
       "number_customer_service_calls      int64\n",
       "churn                             object\n",
       "dtype: object"
      ]
     },
     "execution_count": 7,
     "metadata": {},
     "output_type": "execute_result"
    }
   ],
   "source": [
    "df.dtypes"
   ]
  },
  {
   "cell_type": "code",
   "execution_count": 8,
   "metadata": {},
   "outputs": [
    {
     "data": {
      "text/html": [
       "<div>\n",
       "<style scoped>\n",
       "    .dataframe tbody tr th:only-of-type {\n",
       "        vertical-align: middle;\n",
       "    }\n",
       "\n",
       "    .dataframe tbody tr th {\n",
       "        vertical-align: top;\n",
       "    }\n",
       "\n",
       "    .dataframe thead th {\n",
       "        text-align: right;\n",
       "    }\n",
       "</style>\n",
       "<table border=\"1\" class=\"dataframe\">\n",
       "  <thead>\n",
       "    <tr style=\"text-align: right;\">\n",
       "      <th></th>\n",
       "      <th>account_length</th>\n",
       "      <th>number_vmail_messages</th>\n",
       "      <th>total_day_minutes</th>\n",
       "      <th>total_day_calls</th>\n",
       "      <th>total_day_charge</th>\n",
       "      <th>total_eve_minutes</th>\n",
       "      <th>total_eve_calls</th>\n",
       "      <th>total_eve_charge</th>\n",
       "      <th>total_night_minutes</th>\n",
       "      <th>total_night_calls</th>\n",
       "      <th>total_night_charge</th>\n",
       "      <th>total_intl_minutes</th>\n",
       "      <th>total_intl_calls</th>\n",
       "      <th>total_intl_charge</th>\n",
       "      <th>number_customer_service_calls</th>\n",
       "    </tr>\n",
       "  </thead>\n",
       "  <tbody>\n",
       "    <tr>\n",
       "      <th>count</th>\n",
       "      <td>5000.00000</td>\n",
       "      <td>5000.000000</td>\n",
       "      <td>5000.000000</td>\n",
       "      <td>5000.000000</td>\n",
       "      <td>5000.000000</td>\n",
       "      <td>5000.000000</td>\n",
       "      <td>5000.000000</td>\n",
       "      <td>5000.000000</td>\n",
       "      <td>5000.000000</td>\n",
       "      <td>5000.000000</td>\n",
       "      <td>5000.000000</td>\n",
       "      <td>5000.000000</td>\n",
       "      <td>5000.000000</td>\n",
       "      <td>5000.000000</td>\n",
       "      <td>5000.000000</td>\n",
       "    </tr>\n",
       "    <tr>\n",
       "      <th>mean</th>\n",
       "      <td>100.25860</td>\n",
       "      <td>7.755200</td>\n",
       "      <td>180.288900</td>\n",
       "      <td>100.029400</td>\n",
       "      <td>30.649668</td>\n",
       "      <td>200.636560</td>\n",
       "      <td>100.191000</td>\n",
       "      <td>17.054322</td>\n",
       "      <td>200.391620</td>\n",
       "      <td>99.919200</td>\n",
       "      <td>9.017732</td>\n",
       "      <td>10.261780</td>\n",
       "      <td>4.435200</td>\n",
       "      <td>2.771196</td>\n",
       "      <td>1.570400</td>\n",
       "    </tr>\n",
       "    <tr>\n",
       "      <th>std</th>\n",
       "      <td>39.69456</td>\n",
       "      <td>13.546393</td>\n",
       "      <td>53.894699</td>\n",
       "      <td>19.831197</td>\n",
       "      <td>9.162069</td>\n",
       "      <td>50.551309</td>\n",
       "      <td>19.826496</td>\n",
       "      <td>4.296843</td>\n",
       "      <td>50.527789</td>\n",
       "      <td>19.958686</td>\n",
       "      <td>2.273763</td>\n",
       "      <td>2.761396</td>\n",
       "      <td>2.456788</td>\n",
       "      <td>0.745514</td>\n",
       "      <td>1.306363</td>\n",
       "    </tr>\n",
       "    <tr>\n",
       "      <th>min</th>\n",
       "      <td>1.00000</td>\n",
       "      <td>0.000000</td>\n",
       "      <td>0.000000</td>\n",
       "      <td>0.000000</td>\n",
       "      <td>0.000000</td>\n",
       "      <td>0.000000</td>\n",
       "      <td>0.000000</td>\n",
       "      <td>0.000000</td>\n",
       "      <td>0.000000</td>\n",
       "      <td>0.000000</td>\n",
       "      <td>0.000000</td>\n",
       "      <td>0.000000</td>\n",
       "      <td>0.000000</td>\n",
       "      <td>0.000000</td>\n",
       "      <td>0.000000</td>\n",
       "    </tr>\n",
       "    <tr>\n",
       "      <th>25%</th>\n",
       "      <td>73.00000</td>\n",
       "      <td>0.000000</td>\n",
       "      <td>143.700000</td>\n",
       "      <td>87.000000</td>\n",
       "      <td>24.430000</td>\n",
       "      <td>166.375000</td>\n",
       "      <td>87.000000</td>\n",
       "      <td>14.140000</td>\n",
       "      <td>166.900000</td>\n",
       "      <td>87.000000</td>\n",
       "      <td>7.510000</td>\n",
       "      <td>8.500000</td>\n",
       "      <td>3.000000</td>\n",
       "      <td>2.300000</td>\n",
       "      <td>1.000000</td>\n",
       "    </tr>\n",
       "    <tr>\n",
       "      <th>50%</th>\n",
       "      <td>100.00000</td>\n",
       "      <td>0.000000</td>\n",
       "      <td>180.100000</td>\n",
       "      <td>100.000000</td>\n",
       "      <td>30.620000</td>\n",
       "      <td>201.000000</td>\n",
       "      <td>100.000000</td>\n",
       "      <td>17.090000</td>\n",
       "      <td>200.400000</td>\n",
       "      <td>100.000000</td>\n",
       "      <td>9.020000</td>\n",
       "      <td>10.300000</td>\n",
       "      <td>4.000000</td>\n",
       "      <td>2.780000</td>\n",
       "      <td>1.000000</td>\n",
       "    </tr>\n",
       "    <tr>\n",
       "      <th>75%</th>\n",
       "      <td>127.00000</td>\n",
       "      <td>17.000000</td>\n",
       "      <td>216.200000</td>\n",
       "      <td>113.000000</td>\n",
       "      <td>36.750000</td>\n",
       "      <td>234.100000</td>\n",
       "      <td>114.000000</td>\n",
       "      <td>19.900000</td>\n",
       "      <td>234.700000</td>\n",
       "      <td>113.000000</td>\n",
       "      <td>10.560000</td>\n",
       "      <td>12.000000</td>\n",
       "      <td>6.000000</td>\n",
       "      <td>3.240000</td>\n",
       "      <td>2.000000</td>\n",
       "    </tr>\n",
       "    <tr>\n",
       "      <th>max</th>\n",
       "      <td>243.00000</td>\n",
       "      <td>52.000000</td>\n",
       "      <td>351.500000</td>\n",
       "      <td>165.000000</td>\n",
       "      <td>59.760000</td>\n",
       "      <td>363.700000</td>\n",
       "      <td>170.000000</td>\n",
       "      <td>30.910000</td>\n",
       "      <td>395.000000</td>\n",
       "      <td>175.000000</td>\n",
       "      <td>17.770000</td>\n",
       "      <td>20.000000</td>\n",
       "      <td>20.000000</td>\n",
       "      <td>5.400000</td>\n",
       "      <td>9.000000</td>\n",
       "    </tr>\n",
       "  </tbody>\n",
       "</table>\n",
       "</div>"
      ],
      "text/plain": [
       "       account_length  number_vmail_messages  total_day_minutes  \\\n",
       "count      5000.00000            5000.000000        5000.000000   \n",
       "mean        100.25860               7.755200         180.288900   \n",
       "std          39.69456              13.546393          53.894699   \n",
       "min           1.00000               0.000000           0.000000   \n",
       "25%          73.00000               0.000000         143.700000   \n",
       "50%         100.00000               0.000000         180.100000   \n",
       "75%         127.00000              17.000000         216.200000   \n",
       "max         243.00000              52.000000         351.500000   \n",
       "\n",
       "       total_day_calls  total_day_charge  total_eve_minutes  total_eve_calls  \\\n",
       "count      5000.000000       5000.000000        5000.000000      5000.000000   \n",
       "mean        100.029400         30.649668         200.636560       100.191000   \n",
       "std          19.831197          9.162069          50.551309        19.826496   \n",
       "min           0.000000          0.000000           0.000000         0.000000   \n",
       "25%          87.000000         24.430000         166.375000        87.000000   \n",
       "50%         100.000000         30.620000         201.000000       100.000000   \n",
       "75%         113.000000         36.750000         234.100000       114.000000   \n",
       "max         165.000000         59.760000         363.700000       170.000000   \n",
       "\n",
       "       total_eve_charge  total_night_minutes  total_night_calls  \\\n",
       "count       5000.000000          5000.000000        5000.000000   \n",
       "mean          17.054322           200.391620          99.919200   \n",
       "std            4.296843            50.527789          19.958686   \n",
       "min            0.000000             0.000000           0.000000   \n",
       "25%           14.140000           166.900000          87.000000   \n",
       "50%           17.090000           200.400000         100.000000   \n",
       "75%           19.900000           234.700000         113.000000   \n",
       "max           30.910000           395.000000         175.000000   \n",
       "\n",
       "       total_night_charge  total_intl_minutes  total_intl_calls  \\\n",
       "count         5000.000000         5000.000000       5000.000000   \n",
       "mean             9.017732           10.261780          4.435200   \n",
       "std              2.273763            2.761396          2.456788   \n",
       "min              0.000000            0.000000          0.000000   \n",
       "25%              7.510000            8.500000          3.000000   \n",
       "50%              9.020000           10.300000          4.000000   \n",
       "75%             10.560000           12.000000          6.000000   \n",
       "max             17.770000           20.000000         20.000000   \n",
       "\n",
       "       total_intl_charge  number_customer_service_calls  \n",
       "count        5000.000000                    5000.000000  \n",
       "mean            2.771196                       1.570400  \n",
       "std             0.745514                       1.306363  \n",
       "min             0.000000                       0.000000  \n",
       "25%             2.300000                       1.000000  \n",
       "50%             2.780000                       1.000000  \n",
       "75%             3.240000                       2.000000  \n",
       "max             5.400000                       9.000000  "
      ]
     },
     "execution_count": 8,
     "metadata": {},
     "output_type": "execute_result"
    }
   ],
   "source": [
    "df.describe()"
   ]
  },
  {
   "cell_type": "markdown",
   "metadata": {},
   "source": [
    "Moving the churn column to the front. "
   ]
  },
  {
   "cell_type": "code",
   "execution_count": 9,
   "metadata": {},
   "outputs": [
    {
     "data": {
      "text/html": [
       "<div>\n",
       "<style scoped>\n",
       "    .dataframe tbody tr th:only-of-type {\n",
       "        vertical-align: middle;\n",
       "    }\n",
       "\n",
       "    .dataframe tbody tr th {\n",
       "        vertical-align: top;\n",
       "    }\n",
       "\n",
       "    .dataframe thead th {\n",
       "        text-align: right;\n",
       "    }\n",
       "</style>\n",
       "<table border=\"1\" class=\"dataframe\">\n",
       "  <thead>\n",
       "    <tr style=\"text-align: right;\">\n",
       "      <th></th>\n",
       "      <th>churn</th>\n",
       "      <th>state</th>\n",
       "      <th>account_length</th>\n",
       "      <th>area_code</th>\n",
       "      <th>international_plan</th>\n",
       "      <th>voice_mail_plan</th>\n",
       "      <th>number_vmail_messages</th>\n",
       "      <th>total_day_minutes</th>\n",
       "      <th>total_day_calls</th>\n",
       "      <th>total_day_charge</th>\n",
       "      <th>total_eve_minutes</th>\n",
       "      <th>total_eve_calls</th>\n",
       "      <th>total_eve_charge</th>\n",
       "      <th>total_night_minutes</th>\n",
       "      <th>total_night_calls</th>\n",
       "      <th>total_night_charge</th>\n",
       "      <th>total_intl_minutes</th>\n",
       "      <th>total_intl_calls</th>\n",
       "      <th>total_intl_charge</th>\n",
       "      <th>number_customer_service_calls</th>\n",
       "    </tr>\n",
       "  </thead>\n",
       "  <tbody>\n",
       "    <tr>\n",
       "      <th>0</th>\n",
       "      <td>no</td>\n",
       "      <td>AK</td>\n",
       "      <td>1</td>\n",
       "      <td>area_code_408</td>\n",
       "      <td>no</td>\n",
       "      <td>no</td>\n",
       "      <td>0</td>\n",
       "      <td>175.2</td>\n",
       "      <td>74</td>\n",
       "      <td>29.78</td>\n",
       "      <td>151.7</td>\n",
       "      <td>79</td>\n",
       "      <td>12.89</td>\n",
       "      <td>230.5</td>\n",
       "      <td>109</td>\n",
       "      <td>10.37</td>\n",
       "      <td>5.3</td>\n",
       "      <td>3</td>\n",
       "      <td>1.43</td>\n",
       "      <td>1</td>\n",
       "    </tr>\n",
       "    <tr>\n",
       "      <th>1</th>\n",
       "      <td>no</td>\n",
       "      <td>AK</td>\n",
       "      <td>36</td>\n",
       "      <td>area_code_408</td>\n",
       "      <td>no</td>\n",
       "      <td>yes</td>\n",
       "      <td>30</td>\n",
       "      <td>146.3</td>\n",
       "      <td>128</td>\n",
       "      <td>24.87</td>\n",
       "      <td>162.5</td>\n",
       "      <td>80</td>\n",
       "      <td>13.81</td>\n",
       "      <td>129.3</td>\n",
       "      <td>109</td>\n",
       "      <td>5.82</td>\n",
       "      <td>14.5</td>\n",
       "      <td>6</td>\n",
       "      <td>3.92</td>\n",
       "      <td>0</td>\n",
       "    </tr>\n",
       "    <tr>\n",
       "      <th>2</th>\n",
       "      <td>yes</td>\n",
       "      <td>AK</td>\n",
       "      <td>36</td>\n",
       "      <td>area_code_415</td>\n",
       "      <td>yes</td>\n",
       "      <td>yes</td>\n",
       "      <td>19</td>\n",
       "      <td>171.9</td>\n",
       "      <td>96</td>\n",
       "      <td>29.22</td>\n",
       "      <td>198.4</td>\n",
       "      <td>111</td>\n",
       "      <td>16.86</td>\n",
       "      <td>321.7</td>\n",
       "      <td>76</td>\n",
       "      <td>14.48</td>\n",
       "      <td>10.5</td>\n",
       "      <td>1</td>\n",
       "      <td>2.84</td>\n",
       "      <td>1</td>\n",
       "    </tr>\n",
       "    <tr>\n",
       "      <th>3</th>\n",
       "      <td>no</td>\n",
       "      <td>AK</td>\n",
       "      <td>41</td>\n",
       "      <td>area_code_415</td>\n",
       "      <td>no</td>\n",
       "      <td>no</td>\n",
       "      <td>0</td>\n",
       "      <td>159.3</td>\n",
       "      <td>66</td>\n",
       "      <td>27.08</td>\n",
       "      <td>125.9</td>\n",
       "      <td>75</td>\n",
       "      <td>10.70</td>\n",
       "      <td>261.9</td>\n",
       "      <td>76</td>\n",
       "      <td>11.79</td>\n",
       "      <td>11.1</td>\n",
       "      <td>5</td>\n",
       "      <td>3.00</td>\n",
       "      <td>1</td>\n",
       "    </tr>\n",
       "    <tr>\n",
       "      <th>4</th>\n",
       "      <td>no</td>\n",
       "      <td>AK</td>\n",
       "      <td>42</td>\n",
       "      <td>area_code_415</td>\n",
       "      <td>no</td>\n",
       "      <td>no</td>\n",
       "      <td>0</td>\n",
       "      <td>171.0</td>\n",
       "      <td>129</td>\n",
       "      <td>29.07</td>\n",
       "      <td>183.9</td>\n",
       "      <td>96</td>\n",
       "      <td>15.63</td>\n",
       "      <td>130.2</td>\n",
       "      <td>90</td>\n",
       "      <td>5.86</td>\n",
       "      <td>4.6</td>\n",
       "      <td>6</td>\n",
       "      <td>1.24</td>\n",
       "      <td>0</td>\n",
       "    </tr>\n",
       "  </tbody>\n",
       "</table>\n",
       "</div>"
      ],
      "text/plain": [
       "  churn state  account_length      area_code international_plan  \\\n",
       "0    no    AK               1  area_code_408                 no   \n",
       "1    no    AK              36  area_code_408                 no   \n",
       "2   yes    AK              36  area_code_415                yes   \n",
       "3    no    AK              41  area_code_415                 no   \n",
       "4    no    AK              42  area_code_415                 no   \n",
       "\n",
       "  voice_mail_plan  number_vmail_messages  total_day_minutes  total_day_calls  \\\n",
       "0              no                      0              175.2               74   \n",
       "1             yes                     30              146.3              128   \n",
       "2             yes                     19              171.9               96   \n",
       "3              no                      0              159.3               66   \n",
       "4              no                      0              171.0              129   \n",
       "\n",
       "   total_day_charge  total_eve_minutes  total_eve_calls  total_eve_charge  \\\n",
       "0             29.78              151.7               79             12.89   \n",
       "1             24.87              162.5               80             13.81   \n",
       "2             29.22              198.4              111             16.86   \n",
       "3             27.08              125.9               75             10.70   \n",
       "4             29.07              183.9               96             15.63   \n",
       "\n",
       "   total_night_minutes  total_night_calls  total_night_charge  \\\n",
       "0                230.5                109               10.37   \n",
       "1                129.3                109                5.82   \n",
       "2                321.7                 76               14.48   \n",
       "3                261.9                 76               11.79   \n",
       "4                130.2                 90                5.86   \n",
       "\n",
       "   total_intl_minutes  total_intl_calls  total_intl_charge  \\\n",
       "0                 5.3                 3               1.43   \n",
       "1                14.5                 6               3.92   \n",
       "2                10.5                 1               2.84   \n",
       "3                11.1                 5               3.00   \n",
       "4                 4.6                 6               1.24   \n",
       "\n",
       "   number_customer_service_calls  \n",
       "0                              1  \n",
       "1                              0  \n",
       "2                              1  \n",
       "3                              1  \n",
       "4                              0  "
      ]
     },
     "execution_count": 9,
     "metadata": {},
     "output_type": "execute_result"
    }
   ],
   "source": [
    "# designate target variable name\n",
    "targetName = 'churn'\n",
    "#print(targetName)\n",
    "targetSeries = df[targetName] #notice one column is considered a series in pandas\n",
    "#print(targetSeries)\n",
    "#remove target from current location and insert in column number 0\n",
    "del df[targetName]\n",
    "df.insert(0, targetName, targetSeries)\n",
    "#reprint dataframe and see target is in position 0\n",
    "df.head(5)"
   ]
  },
  {
   "cell_type": "markdown",
   "metadata": {},
   "source": [
    "## Some Exploratory Data Analysis & Data Preprocessing"
   ]
  },
  {
   "cell_type": "code",
   "execution_count": 10,
   "metadata": {},
   "outputs": [
    {
     "name": "stdout",
     "output_type": "stream",
     "text": [
      "churn\n",
      "no     4293\n",
      "yes     707\n",
      "Name: churn, dtype: int64\n"
     ]
    },
    {
     "data": {
      "text/plain": [
       "<matplotlib.lines.Line2D at 0x1808db21fd0>"
      ]
     },
     "execution_count": 10,
     "metadata": {},
     "output_type": "execute_result"
    },
    {
     "data": {
      "image/png": "[encoded data removed]",
      "text/plain": [
       "<Figure size 432x288 with 1 Axes>"
      ]
     },
     "metadata": {
      "needs_background": "light"
     },
     "output_type": "display_data"
    }
   ],
   "source": [
    "#Basic bar chart since the target is binominal\n",
    "groupby = df.groupby(targetName)\n",
    "targetEDA=groupby[targetName].aggregate(len)\n",
    "print(targetEDA)\n",
    "plt.figure()\n",
    "targetEDA.plot(kind='bar', grid=False)\n",
    "plt.axhline(0, color='k')"
   ]
  },
  {
   "cell_type": "markdown",
   "metadata": {},
   "source": [
    "14% of the customers churned. If we are going to use a machine learning model, it needs to have better predictive performance than 86%.\n",
    "\n",
    "We are going to do two preprocessing tasks: 1) change the target column to a numeric since many models in Scikit Learn requires integers/numeric; and 2) create dummy variables for the categorical variables. "
   ]
  },
  {
   "cell_type": "code",
   "execution_count": 11,
   "metadata": {},
   "outputs": [],
   "source": [
    "# This code turns a character/text target variable into numeric one\n",
    "from sklearn import preprocessing\n",
    "le_dep = preprocessing.LabelEncoder()\n",
    "#to convert into numbers\n",
    "df['churn'] = le_dep.fit_transform(df['churn'])\n",
    "\n",
    "# perform data transformation. Creates dummy variables for categorical variables. \n",
    "# very similar to the dummies() function in the dummy package in R\n",
    "# I did not write this code chunk but cannot find the source to give proper credit to its creator. \n",
    "#If you do find the source, please let me know.\n",
    "for col in df.columns[1:]:\n",
    "\tattName = col\n",
    "\tdType = df[col].dtype\n",
    "\tmissing = pd.isnull(df[col]).any()\n",
    "\tuniqueCount = len(df[attName].value_counts(normalize=False))\n",
    "\t# discretize (create dummies)\n",
    "\tif dType == object:\n",
    "\t\tdf = pd.concat([df, pd.get_dummies(df[col], prefix=col)], axis=1)\n",
    "\t\tdel df[attName]"
   ]
  },
  {
   "cell_type": "code",
   "execution_count": 12,
   "metadata": {},
   "outputs": [
    {
     "data": {
      "text/plain": [
       "(5000, 74)"
      ]
     },
     "execution_count": 12,
     "metadata": {},
     "output_type": "execute_result"
    }
   ],
   "source": [
    "df.shape"
   ]
  },
  {
   "cell_type": "code",
   "execution_count": 13,
   "metadata": {},
   "outputs": [
    {
     "data": {
      "text/plain": [
       "Index(['churn', 'account_length', 'number_vmail_messages', 'total_day_minutes',\n",
       "       'total_day_calls', 'total_day_charge', 'total_eve_minutes',\n",
       "       'total_eve_calls', 'total_eve_charge', 'total_night_minutes',\n",
       "       'total_night_calls', 'total_night_charge', 'total_intl_minutes',\n",
       "       'total_intl_calls', 'total_intl_charge',\n",
       "       'number_customer_service_calls', 'state_AK', 'state_AL', 'state_AR',\n",
       "       'state_AZ', 'state_CA', 'state_CO', 'state_CT', 'state_DC', 'state_DE',\n",
       "       'state_FL', 'state_GA', 'state_HI', 'state_IA', 'state_ID', 'state_IL',\n",
       "       'state_IN', 'state_KS', 'state_KY', 'state_LA', 'state_MA', 'state_MD',\n",
       "       'state_ME', 'state_MI', 'state_MN', 'state_MO', 'state_MS', 'state_MT',\n",
       "       'state_NC', 'state_ND', 'state_NE', 'state_NH', 'state_NJ', 'state_NM',\n",
       "       'state_NV', 'state_NY', 'state_OH', 'state_OK', 'state_OR', 'state_PA',\n",
       "       'state_RI', 'state_SC', 'state_SD', 'state_TN', 'state_TX', 'state_UT',\n",
       "       'state_VA', 'state_VT', 'state_WA', 'state_WI', 'state_WV', 'state_WY',\n",
       "       'area_code_area_code_408', 'area_code_area_code_415',\n",
       "       'area_code_area_code_510', 'international_plan_no',\n",
       "       'international_plan_yes', 'voice_mail_plan_no', 'voice_mail_plan_yes'],\n",
       "      dtype='object')"
      ]
     },
     "execution_count": 13,
     "metadata": {},
     "output_type": "execute_result"
    }
   ],
   "source": [
    "df.columns"
   ]
  },
  {
   "cell_type": "markdown",
   "metadata": {},
   "source": [
    "## Train/Test or the Holdout Method"
   ]
  },
  {
   "cell_type": "markdown",
   "metadata": {},
   "source": [
    "I am using a 60/40 split (60% trainining set and 40% test set) since this is an unbalanced dataset. The features are stored in \"features_train\" and \"features_test\". The targets are in \"target_train\" and \"target_test\". "
   ]
  },
  {
   "cell_type": "code",
   "execution_count": 14,
   "metadata": {},
   "outputs": [],
   "source": [
    "# split dataset into testing and training\n",
    "# column location 1 to end of dataframe are the features.\n",
    "# column location 0 is the target\n",
    "from sklearn.model_selection  import train_test_split\n",
    "features_train, features_test, target_train, target_test = train_test_split(\n",
    "    df.iloc[:,1:].values, df.iloc[:,0].values, test_size=0.40, random_state=0)"
   ]
  },
  {
   "cell_type": "code",
   "execution_count": 15,
   "metadata": {},
   "outputs": [
    {
     "name": "stdout",
     "output_type": "stream",
     "text": [
      "(2000, 73)\n",
      "(3000, 73)\n",
      "(2000,)\n",
      "(3000,)\n",
      "Percent of Target that is Yes 0.146\n"
     ]
    }
   ],
   "source": [
    "print(features_test.shape)\n",
    "print(features_train.shape)\n",
    "print(target_test.shape)\n",
    "print(target_train.shape)\n",
    "print(\"Percent of Target that is Yes\", target_test.mean())"
   ]
  },
  {
   "cell_type": "markdown",
   "metadata": {},
   "source": [
    "## Multilayer Perceptron Model (MLP)"
   ]
  },
  {
   "cell_type": "markdown",
   "metadata": {},
   "source": [
    "You should always scale your data before training neural network models. It is best practice to scale your features so that each feature has a mean of as close to 0 as possible. Two popular normalization methods are 1) Min-Max normalization and 2) z-score normalization (mean = 0; standard deviation = 1). Neural networks train and converge faster when features are normalized."
   ]
  },
  {
   "cell_type": "markdown",
   "metadata": {},
   "source": [
    "Here is the scikit-learn documentation for MLP:\n",
    "https://scikit-learn.org/stable/modules/neural_networks_supervised.html#multi-layer-perceptron\n",
    "https://scikit-learn.org/stable/modules/generated/sklearn.neural_network.MLPClassifier.html#sklearn.neural_network.MLPClassifier"
   ]
  },
  {
   "cell_type": "code",
   "execution_count": 16,
   "metadata": {},
   "outputs": [],
   "source": [
    "from sklearn.preprocessing import StandardScaler  \n",
    "#Build\n",
    "scaler = StandardScaler()  \n",
    "#Train\n",
    "scaler.fit(features_train)  \n",
    "#Validate\n",
    "features_train_norm = scaler.transform(features_train)  \n",
    "# apply same transformation to test data\n",
    "features_test_norm = scaler.transform(features_test) "
   ]
  },
  {
   "cell_type": "code",
   "execution_count": 17,
   "metadata": {},
   "outputs": [
    {
     "name": "stdout",
     "output_type": "stream",
     "text": [
      "Accuracy 0.908\n",
      "              precision    recall  f1-score   support\n",
      "\n",
      "  Churn = no       0.93      0.96      0.95      1708\n",
      " Churn = yes       0.73      0.59      0.65       292\n",
      "\n",
      "    accuracy                           0.91      2000\n",
      "   macro avg       0.83      0.78      0.80      2000\n",
      "weighted avg       0.90      0.91      0.90      2000\n",
      "\n",
      "[[1643   65]\n",
      " [ 119  173]]\n"
     ]
    },
    {
     "name": "stderr",
     "output_type": "stream",
     "text": [
      "C:\\Users\\micha\\anaconda3\\lib\\site-packages\\sklearn\\neural_network\\_multilayer_perceptron.py:614: ConvergenceWarning: Stochastic Optimizer: Maximum iterations (200) reached and the optimization hasn't converged yet.\n",
      "  warnings.warn(\n"
     ]
    }
   ],
   "source": [
    "#Build\n",
    "from sklearn.neural_network import MLPClassifier\n",
    "clf_nn = MLPClassifier(hidden_layer_sizes=(5),random_state=0) #one hidden layer with five units/nodes\n",
    "#clf_nn = MLPClassifier(hidden_layer_sizes=(5), solver=\"lbfgs\",random_state=0) #one hidden layer with five units/nodes\n",
    "#clf_nn = MLPClassifier(hidden_layer_sizes=(5), solver=\"sgd\", learning_rate=\"adaptive\", max_iter=1000,random_state=0)\n",
    "#clf_nn = MLPClassifier(hidden_layer_sizes=(5,5), solver=\"sgd\", learning_rate=\"adaptive\", max_iter=1000,random_state=0)\n",
    "#clf_nn = MLPClassifier(hidden_layer_sizes=(20,20), solver=\"sgd\", learning_rate=\"adaptive\", max_iter=10000,random_state=0)\n",
    "#Train\n",
    "clf_nn.fit(features_train_norm, target_train)\n",
    "#Validate\n",
    "target_predicted = clf_nn.predict(features_test_norm)\n",
    "print(\"Accuracy\", accuracy_score(target_test, target_predicted))\n",
    "target_names = [\"Churn = no\", \"Churn = yes\"]\n",
    "print(classification_report(target_test, target_predicted, target_names=target_names))\n",
    "print(confusion_matrix(target_test, target_predicted))"
   ]
  },
  {
   "cell_type": "markdown",
   "metadata": {},
   "source": [
    "## Stochastic Gradient Descent Classifier"
   ]
  },
  {
   "cell_type": "markdown",
   "metadata": {},
   "source": [
    "Stochastic Gradient Descent can also be used to solve the loss functions of other algorithms besides neural networks. scikit-learn has two classes for fitting linear models: SGDClassifier and SGDRegressor. Here is the documentation: https://scikit-learn.org/stable/modules/linear_model.html#stochastic-gradient-descent-sgd\n",
    "\n",
    "It is recommended to scale your data before using SGD."
   ]
  },
  {
   "cell_type": "code",
   "execution_count": 18,
   "metadata": {},
   "outputs": [
    {
     "name": "stdout",
     "output_type": "stream",
     "text": [
      "Accuracy 0.8515\n",
      "              precision    recall  f1-score   support\n",
      "\n",
      "  Churn = no       0.88      0.95      0.92      1708\n",
      " Churn = yes       0.48      0.26      0.34       292\n",
      "\n",
      "    accuracy                           0.85      2000\n",
      "   macro avg       0.68      0.61      0.63      2000\n",
      "weighted avg       0.82      0.85      0.83      2000\n",
      "\n",
      "[[1626   82]\n",
      " [ 215   77]]\n"
     ]
    }
   ],
   "source": [
    "#Build\n",
    "from sklearn.linear_model import SGDClassifier\n",
    "clf_sgd_linear_svm = SGDClassifier(random_state=0)\n",
    "#Train\n",
    "clf_sgd_linear_svm.fit(features_train_norm, target_train)\n",
    "#Validate\n",
    "target_predicted = clf_sgd_linear_svm.predict(features_test_norm)\n",
    "print(\"Accuracy\", accuracy_score(target_test, target_predicted))\n",
    "target_names = [\"Churn = no\", \"Churn = yes\"]\n",
    "print(classification_report(target_test, target_predicted, target_names=target_names))\n",
    "print(confusion_matrix(target_test, target_predicted))"
   ]
  },
  {
   "cell_type": "code",
   "execution_count": 19,
   "metadata": {},
   "outputs": [
    {
     "name": "stdout",
     "output_type": "stream",
     "text": [
      "Training time is 0.04172182083129883\n",
      "Accuracy 0.847\n",
      "              precision    recall  f1-score   support\n",
      "\n",
      "  Churn = no       0.88      0.95      0.91      1708\n",
      " Churn = yes       0.46      0.25      0.32       292\n",
      "\n",
      "    accuracy                           0.85      2000\n",
      "   macro avg       0.67      0.60      0.62      2000\n",
      "weighted avg       0.82      0.85      0.83      2000\n",
      "\n",
      "[[1621   87]\n",
      " [ 219   73]]\n"
     ]
    }
   ],
   "source": [
    "#Build\n",
    "from sklearn.linear_model import SGDClassifier\n",
    "import time\n",
    "start = time.time()\n",
    "clf_sgd_logit = SGDClassifier(loss='log', random_state=0)\n",
    "#Train\n",
    "clf_sgd_logit.fit(features_train_norm, target_train)\n",
    "end = time.time()\n",
    "print(\"Training time is\", end-start)\n",
    "#Validate\n",
    "target_predicted = clf_sgd_logit.predict(features_test_norm)\n",
    "print(\"Accuracy\", accuracy_score(target_test, target_predicted))\n",
    "target_names = [\"Churn = no\", \"Churn = yes\"]\n",
    "print(classification_report(target_test, target_predicted, target_names=target_names))\n",
    "print(confusion_matrix(target_test, target_predicted))"
   ]
  },
  {
   "cell_type": "markdown",
   "metadata": {},
   "source": [
    "Let's briefly compare this to the LogisticRegression class in sklearn.linear_model"
   ]
  },
  {
   "cell_type": "code",
   "execution_count": 20,
   "metadata": {},
   "outputs": [
    {
     "name": "stdout",
     "output_type": "stream",
     "text": [
      "Training time is 0.00943756103515625\n",
      "Accuracy 0.86\n",
      "              precision    recall  f1-score   support\n",
      "\n",
      "  Churn = no       0.88      0.96      0.92      1708\n",
      " Churn = yes       0.54      0.25      0.34       292\n",
      "\n",
      "    accuracy                           0.86      2000\n",
      "   macro avg       0.71      0.61      0.63      2000\n",
      "weighted avg       0.83      0.86      0.84      2000\n",
      "\n",
      "[[1647   61]\n",
      " [ 219   73]]\n"
     ]
    }
   ],
   "source": [
    "#Build\n",
    "from sklearn.linear_model import LogisticRegression\n",
    "import time\n",
    "start = time.time()\n",
    "clf_lr_logit = LogisticRegression(solver = 'lbfgs', random_state=0) #default solver\n",
    "#Train\n",
    "clf_lr_logit.fit(features_train_norm, target_train)\n",
    "end = time.time()\n",
    "print(\"Training time is\", end-start)\n",
    "#Validate\n",
    "target_predicted = clf_lr_logit.predict(features_test_norm)\n",
    "print(\"Accuracy\", accuracy_score(target_test, target_predicted))\n",
    "target_names = [\"Churn = no\", \"Churn = yes\"]\n",
    "print(classification_report(target_test, target_predicted, target_names=target_names))\n",
    "print(confusion_matrix(target_test, target_predicted))"
   ]
  },
  {
   "cell_type": "markdown",
   "metadata": {},
   "source": [
    "## MLP: A Numeric Prediction Example"
   ]
  },
  {
   "cell_type": "markdown",
   "metadata": {},
   "source": [
    "We are going to load in the boston dataset, which is a built-in dataset in scikit-learn. The data is loaded as a dictionary, so we need to convert it to a dataframe using pandas."
   ]
  },
  {
   "cell_type": "code",
   "execution_count": 21,
   "metadata": {},
   "outputs": [
    {
     "name": "stdout",
     "output_type": "stream",
     "text": [
      "['CRIM' 'ZN' 'INDUS' 'CHAS' 'NOX' 'RM' 'AGE' 'DIS' 'RAD' 'TAX' 'PTRATIO'\n",
      " 'B' 'LSTAT']\n"
     ]
    },
    {
     "data": {
      "text/plain": [
       "<bound method NDFrame.head of        0        0     1      2    3      4      5     6       7    8      9   \\\n",
       "0    24.0  0.00632  18.0   2.31  0.0  0.538  6.575  65.2  4.0900  1.0  296.0   \n",
       "1    21.6  0.02731   0.0   7.07  0.0  0.469  6.421  78.9  4.9671  2.0  242.0   \n",
       "2    34.7  0.02729   0.0   7.07  0.0  0.469  7.185  61.1  4.9671  2.0  242.0   \n",
       "3    33.4  0.03237   0.0   2.18  0.0  0.458  6.998  45.8  6.0622  3.0  222.0   \n",
       "4    36.2  0.06905   0.0   2.18  0.0  0.458  7.147  54.2  6.0622  3.0  222.0   \n",
       "..    ...      ...   ...    ...  ...    ...    ...   ...     ...  ...    ...   \n",
       "501  22.4  0.06263   0.0  11.93  0.0  0.573  6.593  69.1  2.4786  1.0  273.0   \n",
       "502  20.6  0.04527   0.0  11.93  0.0  0.573  6.120  76.7  2.2875  1.0  273.0   \n",
       "503  23.9  0.06076   0.0  11.93  0.0  0.573  6.976  91.0  2.1675  1.0  273.0   \n",
       "504  22.0  0.10959   0.0  11.93  0.0  0.573  6.794  89.3  2.3889  1.0  273.0   \n",
       "505  11.9  0.04741   0.0  11.93  0.0  0.573  6.030  80.8  2.5050  1.0  273.0   \n",
       "\n",
       "       10      11    12  \n",
       "0    15.3  396.90  4.98  \n",
       "1    17.8  396.90  9.14  \n",
       "2    17.8  392.83  4.03  \n",
       "3    18.7  394.63  2.94  \n",
       "4    18.7  396.90  5.33  \n",
       "..    ...     ...   ...  \n",
       "501  21.0  391.99  9.67  \n",
       "502  21.0  396.90  9.08  \n",
       "503  21.0  396.90  5.64  \n",
       "504  21.0  393.45  6.48  \n",
       "505  21.0  396.90  7.88  \n",
       "\n",
       "[506 rows x 14 columns]>"
      ]
     },
     "execution_count": 21,
     "metadata": {},
     "output_type": "execute_result"
    }
   ],
   "source": [
    "from sklearn.datasets import load_boston\n",
    "boston = load_boston()\n",
    "print(boston[\"feature_names\"])\n",
    "features = pd.DataFrame.from_dict(boston[\"data\"])\n",
    "target = pd.DataFrame.from_dict(boston[\"target\"])\n",
    "df = pd.concat([target, features], axis=1)\n",
    "df.head"
   ]
  },
  {
   "cell_type": "code",
   "execution_count": 22,
   "metadata": {},
   "outputs": [],
   "source": [
    "# split dataset into testing and training\n",
    "# column location 1 to end of dataframe are the features.\n",
    "# column location 0 is the target\n",
    "from sklearn.model_selection  import train_test_split\n",
    "features_train, features_test, target_train, target_test = train_test_split(\n",
    "    df.iloc[:,1:].values, df.iloc[:,0].values, test_size=0.20, random_state=0)"
   ]
  },
  {
   "cell_type": "code",
   "execution_count": 23,
   "metadata": {},
   "outputs": [
    {
     "name": "stdout",
     "output_type": "stream",
     "text": [
      "(102, 13)\n",
      "(404, 13)\n",
      "(102,)\n",
      "(404,)\n"
     ]
    }
   ],
   "source": [
    "print(features_test.shape)\n",
    "print(features_train.shape)\n",
    "print(target_test.shape)\n",
    "print(target_train.shape)"
   ]
  },
  {
   "cell_type": "code",
   "execution_count": 24,
   "metadata": {},
   "outputs": [
    {
     "name": "stdout",
     "output_type": "stream",
     "text": [
      "MSE 32.478033378029544\n"
     ]
    }
   ],
   "source": [
    "#Build\n",
    "from sklearn.preprocessing import MinMaxScaler\n",
    "from sklearn.pipeline import make_pipeline\n",
    "from sklearn.neural_network import MLPRegressor\n",
    "from sklearn.metrics import mean_squared_error\n",
    "#clf_nn = make_pipeline(MinMaxScaler(), MLPRegressor(hidden_layer_sizes=5, max_iter=10000, random_state=0))\n",
    "clf_nn = make_pipeline(MinMaxScaler(), MLPRegressor(hidden_layer_sizes=(20,20), max_iter=10000, random_state=0))\n",
    "#Train\n",
    "clf_nn.fit(features_train, target_train)\n",
    "#Validate\n",
    "target_predicted = clf_nn.predict(features_test)\n",
    "#print(target_predicted)\n",
    "#print(target_test.head)\n",
    "print(\"MSE\", mean_squared_error(target_test, target_predicted)) "
   ]
  },
  {
   "cell_type": "code",
   "execution_count": null,
   "metadata": {},
   "outputs": [],
   "source": []
  }
 ],
 "metadata": {
  "kernelspec": {
   "display_name": "Python 3 (ipykernel)",
   "language": "python",
   "name": "python3"
  },
  "language_info": {
   "codemirror_mode": {
    "name": "ipython",
    "version": 3
   },
   "file_extension": ".py",
   "mimetype": "text/x-python",
   "name": "python",
   "nbconvert_exporter": "python",
   "pygments_lexer": "ipython3",
   "version": "3.9.7"
  }
 },
 "nbformat": 4,
 "nbformat_minor": 4
}
